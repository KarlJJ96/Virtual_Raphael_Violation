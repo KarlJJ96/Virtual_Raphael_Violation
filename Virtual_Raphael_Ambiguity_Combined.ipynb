import fitz
import os

from ambiguity_conditional import check_conditional_ambiguity
from ambiguity_lexical import check_lexical_ambiguity
from ambiguity_quantity import check_quantity_ambiguity
from ambiguity_scope import check_scope_ambiguity
from ambiguity_syntactic import check_syntactic_ambiguity
from ambiguity_temporal import check_temporal_ambiguity
from ambiguity_uomeasurement import check_uomeasurement_ambiguity
from undefined_abbreviations_acronyms import check_undefined_abbreviations_acronyms

def extract_text_from_pdf(pdf_path):
    pdf_document = fitz.open(pdf_path)
    text = ""
    for page_num in range(pdf_document.page_count):
        page = pdf_document[page_num]
        text += page.get_text()
    return text

def write_output_to_file(output_text, output_path):
    with open(output_path, 'w') as file:
        file.write(output_text)

def main(pdf_path, output_dir, ambiguity_checks):
    text = extract_text_from_pdf(pdf_path)

    ambiguous_sentences = ""

    if "conditional" in ambiguity_checks:
        ambiguous_sentences += check_conditional_ambiguity(text)
    if "lexical" in ambiguity_checks:
        ambiguous_sentences += check_lexical_ambiguity(text)
    if "quantity" in ambiguity_checks:
        ambiguous_sentences += check_quantity_ambiguity(text)
    if "scope" in ambiguity_checks:
        ambiguous_sentences += check_scope_ambiguity(text)
    if "syntactic" in ambiguity_checks:
        ambiguous_sentences += check_syntactic_ambiguity(text)
    if "temporal" in ambiguity_checks:
        ambiguous_sentences += check_temporal_ambiguity(text)

    if ambiguous_sentences:
        write_output_to_file(ambiguous_sentences, os.path.join(output_dir, "Ambiguous_Sentences.txt"))

    if "uomeasurement" in ambiguity_checks:
        inconsistencies, sentences_with_issues = check_uomeasurement_ambiguity(text)
        if inconsistencies:
            write_output_to_file("\n".join(inconsistencies), os.path.join(output_dir, "Inconsistent_Use_of_Units.txt"))
        if sentences_with_issues:
            write_output_to_file("\n".join(sentences_with_issues), os.path.join(output_dir, "Potentially_Ambiguous_Sentences.txt"))

    if "undefined_abbreviations" in ambiguity_checks:
        undefined_abbreviations = check_undefined_abbreviations_acronyms(pdf_path)
        write_output_to_file(undefined_abbreviations, os.path.join(output_dir, "Undefined_Abbreviations_and_Acronyms.txt"))

if __name__ == "__main__":
    pdf_path = "SOP_File.pdf"
    output_dir = "output folder"
    ambiguity_checks = [
        "conditional", "lexical", "quantity", "scope", "syntactic",
        "temporal", "uomeasurement", "undefined_abbreviations"
    ]
    main(pdf_path, output_dir, ambiguity_checks)
